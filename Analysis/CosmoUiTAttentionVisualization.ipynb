{
 "cells": [
  {
   "cell_type": "code",
   "execution_count": 1,
   "metadata": {},
   "outputs": [],
   "source": [
    "\n",
    "import torch\n",
    "import torch.nn as nn\n",
    "import torch.nn.functional as F\n",
    "\n",
    "\n",
    "outputs = []\n",
    "\n",
    "def hook_fn(module, input, output):\n",
    "    outputs.append(output)"
   ]
  },
  {
   "cell_type": "code",
   "execution_count": 2,
   "metadata": {},
   "outputs": [
    {
     "data": {
      "text/plain": [
       "CosmoUiT(\n",
       "  (patch_embed): PatchEmbedding(\n",
       "    (proj): Linear(in_features=512, out_features=128, bias=True)\n",
       "  )\n",
       "  (param_embed): ParameterEmbedding(\n",
       "    (fc): Linear(in_features=3, out_features=128, bias=True)\n",
       "  )\n",
       "  (encoder_layers): ModuleList(\n",
       "    (0-3): 4 x TransformerEncoderLayer(\n",
       "      (self_attn): MultiheadAttention(\n",
       "        (out_proj): NonDynamicallyQuantizableLinear(in_features=128, out_features=128, bias=True)\n",
       "      )\n",
       "      (fc1): Linear(in_features=128, out_features=256, bias=True)\n",
       "      (fc2): Linear(in_features=256, out_features=128, bias=True)\n",
       "      (norm1): LayerNorm((128,), eps=1e-05, elementwise_affine=True)\n",
       "      (norm2): LayerNorm((128,), eps=1e-05, elementwise_affine=True)\n",
       "    )\n",
       "  )\n",
       "  (fc_out): Linear(in_features=128, out_features=512, bias=True)\n",
       "  (unet): UNet3D(\n",
       "    (enc1): DoubleConv(\n",
       "      (double_conv): Sequential(\n",
       "        (0): Conv3d(1, 32, kernel_size=(3, 3, 3), stride=(1, 1, 1), padding=(1, 1, 1), padding_mode=circular)\n",
       "        (1): BatchNorm3d(32, eps=1e-05, momentum=0.1, affine=True, track_running_stats=True)\n",
       "        (2): ReLU(inplace=True)\n",
       "        (3): Conv3d(32, 32, kernel_size=(3, 3, 3), stride=(1, 1, 1), padding=(1, 1, 1), padding_mode=circular)\n",
       "        (4): BatchNorm3d(32, eps=1e-05, momentum=0.1, affine=True, track_running_stats=True)\n",
       "        (5): ReLU(inplace=True)\n",
       "      )\n",
       "    )\n",
       "    (enc2): DoubleConv(\n",
       "      (double_conv): Sequential(\n",
       "        (0): Conv3d(32, 32, kernel_size=(3, 3, 3), stride=(1, 1, 1), padding=(1, 1, 1), padding_mode=circular)\n",
       "        (1): BatchNorm3d(32, eps=1e-05, momentum=0.1, affine=True, track_running_stats=True)\n",
       "        (2): ReLU(inplace=True)\n",
       "        (3): Conv3d(32, 32, kernel_size=(3, 3, 3), stride=(1, 1, 1), padding=(1, 1, 1), padding_mode=circular)\n",
       "        (4): BatchNorm3d(32, eps=1e-05, momentum=0.1, affine=True, track_running_stats=True)\n",
       "        (5): ReLU(inplace=True)\n",
       "      )\n",
       "    )\n",
       "    (enc3): DoubleConv(\n",
       "      (double_conv): Sequential(\n",
       "        (0): Conv3d(32, 64, kernel_size=(3, 3, 3), stride=(1, 1, 1), padding=(1, 1, 1), padding_mode=circular)\n",
       "        (1): BatchNorm3d(64, eps=1e-05, momentum=0.1, affine=True, track_running_stats=True)\n",
       "        (2): ReLU(inplace=True)\n",
       "        (3): Conv3d(64, 64, kernel_size=(3, 3, 3), stride=(1, 1, 1), padding=(1, 1, 1), padding_mode=circular)\n",
       "        (4): BatchNorm3d(64, eps=1e-05, momentum=0.1, affine=True, track_running_stats=True)\n",
       "        (5): ReLU(inplace=True)\n",
       "      )\n",
       "    )\n",
       "    (enc4): DoubleConv(\n",
       "      (double_conv): Sequential(\n",
       "        (0): Conv3d(64, 128, kernel_size=(3, 3, 3), stride=(1, 1, 1), padding=(1, 1, 1), padding_mode=circular)\n",
       "        (1): BatchNorm3d(128, eps=1e-05, momentum=0.1, affine=True, track_running_stats=True)\n",
       "        (2): ReLU(inplace=True)\n",
       "        (3): Conv3d(128, 128, kernel_size=(3, 3, 3), stride=(1, 1, 1), padding=(1, 1, 1), padding_mode=circular)\n",
       "        (4): BatchNorm3d(128, eps=1e-05, momentum=0.1, affine=True, track_running_stats=True)\n",
       "        (5): ReLU(inplace=True)\n",
       "      )\n",
       "    )\n",
       "    (pool): MaxPool3d(kernel_size=2, stride=2, padding=0, dilation=1, ceil_mode=False)\n",
       "    (bottleneck): DoubleConv(\n",
       "      (double_conv): Sequential(\n",
       "        (0): Conv3d(131, 512, kernel_size=(3, 3, 3), stride=(1, 1, 1), padding=(1, 1, 1), padding_mode=circular)\n",
       "        (1): BatchNorm3d(512, eps=1e-05, momentum=0.1, affine=True, track_running_stats=True)\n",
       "        (2): ReLU(inplace=True)\n",
       "        (3): Conv3d(512, 512, kernel_size=(3, 3, 3), stride=(1, 1, 1), padding=(1, 1, 1), padding_mode=circular)\n",
       "        (4): BatchNorm3d(512, eps=1e-05, momentum=0.1, affine=True, track_running_stats=True)\n",
       "        (5): ReLU(inplace=True)\n",
       "      )\n",
       "    )\n",
       "    (upconv4): ConvTranspose3d(512, 256, kernel_size=(2, 2, 2), stride=(2, 2, 2))\n",
       "    (dec4): DoubleConv(\n",
       "      (double_conv): Sequential(\n",
       "        (0): Conv3d(320, 256, kernel_size=(3, 3, 3), stride=(1, 1, 1), padding=(1, 1, 1), padding_mode=circular)\n",
       "        (1): BatchNorm3d(256, eps=1e-05, momentum=0.1, affine=True, track_running_stats=True)\n",
       "        (2): ReLU(inplace=True)\n",
       "        (3): Conv3d(256, 256, kernel_size=(3, 3, 3), stride=(1, 1, 1), padding=(1, 1, 1), padding_mode=circular)\n",
       "        (4): BatchNorm3d(256, eps=1e-05, momentum=0.1, affine=True, track_running_stats=True)\n",
       "        (5): ReLU(inplace=True)\n",
       "      )\n",
       "    )\n",
       "    (upconv3): ConvTranspose3d(256, 128, kernel_size=(2, 2, 2), stride=(2, 2, 2))\n",
       "    (dec3): DoubleConv(\n",
       "      (double_conv): Sequential(\n",
       "        (0): Conv3d(160, 128, kernel_size=(3, 3, 3), stride=(1, 1, 1), padding=(1, 1, 1), padding_mode=circular)\n",
       "        (1): BatchNorm3d(128, eps=1e-05, momentum=0.1, affine=True, track_running_stats=True)\n",
       "        (2): ReLU(inplace=True)\n",
       "        (3): Conv3d(128, 128, kernel_size=(3, 3, 3), stride=(1, 1, 1), padding=(1, 1, 1), padding_mode=circular)\n",
       "        (4): BatchNorm3d(128, eps=1e-05, momentum=0.1, affine=True, track_running_stats=True)\n",
       "        (5): ReLU(inplace=True)\n",
       "      )\n",
       "    )\n",
       "    (upconv2): ConvTranspose3d(128, 64, kernel_size=(2, 2, 2), stride=(2, 2, 2))\n",
       "    (dec2): DoubleConv(\n",
       "      (double_conv): Sequential(\n",
       "        (0): Conv3d(96, 64, kernel_size=(3, 3, 3), stride=(1, 1, 1), padding=(1, 1, 1), padding_mode=circular)\n",
       "        (1): BatchNorm3d(64, eps=1e-05, momentum=0.1, affine=True, track_running_stats=True)\n",
       "        (2): ReLU(inplace=True)\n",
       "        (3): Conv3d(64, 64, kernel_size=(3, 3, 3), stride=(1, 1, 1), padding=(1, 1, 1), padding_mode=circular)\n",
       "        (4): BatchNorm3d(64, eps=1e-05, momentum=0.1, affine=True, track_running_stats=True)\n",
       "        (5): ReLU(inplace=True)\n",
       "      )\n",
       "    )\n",
       "    (upconv1): ConvTranspose3d(64, 32, kernel_size=(2, 2, 2), stride=(2, 2, 2))\n",
       "    (dec1): DoubleConv(\n",
       "      (double_conv): Sequential(\n",
       "        (0): Conv3d(32, 32, kernel_size=(3, 3, 3), stride=(1, 1, 1), padding=(1, 1, 1), padding_mode=circular)\n",
       "        (1): BatchNorm3d(32, eps=1e-05, momentum=0.1, affine=True, track_running_stats=True)\n",
       "        (2): ReLU(inplace=True)\n",
       "        (3): Conv3d(32, 32, kernel_size=(3, 3, 3), stride=(1, 1, 1), padding=(1, 1, 1), padding_mode=circular)\n",
       "        (4): BatchNorm3d(32, eps=1e-05, momentum=0.1, affine=True, track_running_stats=True)\n",
       "        (5): ReLU(inplace=True)\n",
       "      )\n",
       "    )\n",
       "    (final_conv): Conv3d(32, 1, kernel_size=(3, 3, 3), stride=(2, 2, 2), padding=(1, 1, 1))\n",
       "  )\n",
       ")"
      ]
     },
     "execution_count": 2,
     "metadata": {},
     "output_type": "execute_result"
    }
   ],
   "source": [
    "class PatchEmbedding(nn.Module):\n",
    "    def __init__(self, patch_size=8, in_channels=1, emb_dim=128):\n",
    "        super(PatchEmbedding, self).__init__()\n",
    "        self.patch_size = patch_size\n",
    "        self.num_patches = (48 // patch_size) ** 3\n",
    "        self.proj = nn.Linear(patch_size**3 * in_channels, emb_dim)\n",
    "        self.pos_embed = nn.Parameter(torch.randn(1, self.num_patches, emb_dim))\n",
    "\n",
    "    def forward(self, x):\n",
    "        # x shape: (n, 1, 48, 48, 48)\n",
    "        n, c, d, h, w = x.shape\n",
    "        x = x.unfold(2, self.patch_size, self.patch_size).unfold(3, self.patch_size, self.patch_size).unfold(4, self.patch_size, self.patch_size)\n",
    "        x = x.contiguous().view(n, -1, c*self.patch_size**3)\n",
    "        x = self.proj(x)\n",
    "        x = x + self.pos_embed\n",
    "        return x\n",
    "    \n",
    "# output1 = PatchEmbedding()(input_cube)\n",
    "# print(output1.shape)\n",
    "\n",
    "class ParameterEmbedding(nn.Module):\n",
    "    def __init__(self, param_dim=3, emb_dim=128):\n",
    "        super(ParameterEmbedding, self).__init__()\n",
    "        self.fc = nn.Linear(param_dim, emb_dim)\n",
    "\n",
    "    def forward(self, params):\n",
    "        # params shape: (n, 3)\n",
    "        param_emb = self.fc(params)\n",
    "        return param_emb.unsqueeze(1)  # shape: (n, 1, emb_dim)\n",
    "    \n",
    "# output2 = ParameterEmbedding()(input_params)\n",
    "# print(output2.shape)\n",
    "\n",
    "class TransformerEncoderLayer(nn.Module):\n",
    "    def __init__(self, emb_dim=128, num_heads=8, ff_dim=256):\n",
    "        super(TransformerEncoderLayer, self).__init__()\n",
    "        self.self_attn = nn.MultiheadAttention(emb_dim, num_heads)\n",
    "        self.fc1 = nn.Linear(emb_dim, ff_dim)\n",
    "        self.fc2 = nn.Linear(ff_dim, emb_dim)\n",
    "        self.norm1 = nn.LayerNorm(emb_dim)\n",
    "        self.norm2 = nn.LayerNorm(emb_dim)\n",
    "\n",
    "    def forward(self, x):\n",
    "        attn_output, _ = self.self_attn(x, x, x)\n",
    "        x = x + attn_output\n",
    "        x = self.norm1(x)\n",
    "        ff_output = self.fc2(F.relu(self.fc1(x)))\n",
    "        x = x + ff_output\n",
    "        x = self.norm2(x)\n",
    "        return x\n",
    "\n",
    "# output3 = TransformerEncoderLayer()(output1)\n",
    "# print(output3.shape)\n",
    "\n",
    "class DoubleConv(nn.Module):\n",
    "    def __init__(self, in_channels, out_channels):\n",
    "        super(DoubleConv, self).__init__()\n",
    "        self.double_conv = nn.Sequential(\n",
    "            nn.Conv3d(in_channels, out_channels, kernel_size=3, padding=1, padding_mode='circular'),\n",
    "            nn.BatchNorm3d(out_channels),\n",
    "            nn.ReLU(inplace=True),\n",
    "            nn.Conv3d(out_channels, out_channels, kernel_size=3, padding=1, padding_mode='circular'),\n",
    "            nn.BatchNorm3d(out_channels),\n",
    "            nn.ReLU(inplace=True)\n",
    "        )\n",
    "\n",
    "    def forward(self, x):\n",
    "        return self.double_conv(x)\n",
    "\n",
    "class UNet3D(nn.Module):\n",
    "    def __init__(self, in_channels=1, out_channels=1, param_dim=3, base_filters=32):\n",
    "        super(UNet3D, self).__init__()\n",
    "        \n",
    "        # Encoder\n",
    "        self.enc1 = DoubleConv(in_channels, base_filters)\n",
    "        self.enc2 = DoubleConv(base_filters, base_filters * 1)\n",
    "        self.enc3 = DoubleConv(base_filters * 1, base_filters * 2)\n",
    "        self.enc4 = DoubleConv(base_filters * 2, base_filters * 4)\n",
    "\n",
    "        self.pool = nn.MaxPool3d(2)\n",
    "\n",
    "        # Bottleneck (where we will integrate parameters)\n",
    "        self.bottleneck = DoubleConv(131, base_filters * 16)\n",
    "\n",
    "        # Decoder\n",
    "        self.upconv4 = nn.ConvTranspose3d(base_filters * 16, base_filters * 8, kernel_size=2, stride=2)\n",
    "        self.dec4 = DoubleConv(base_filters * 10, base_filters * 8)\n",
    "        \n",
    "        self.upconv3 = nn.ConvTranspose3d(base_filters * 8, base_filters * 4, kernel_size=2, stride=2)\n",
    "        self.dec3 = DoubleConv(base_filters * 5, base_filters * 4)\n",
    "        \n",
    "        self.upconv2 = nn.ConvTranspose3d(base_filters * 4, base_filters * 2, kernel_size=2, stride=2)\n",
    "        self.dec2 = DoubleConv(base_filters * 3, base_filters * 2)\n",
    "        \n",
    "        self.upconv1 = nn.ConvTranspose3d(base_filters * 2, base_filters, kernel_size=2, stride=2)\n",
    "        self.dec1 = DoubleConv(base_filters * 1, base_filters)\n",
    "        \n",
    "        self.final_conv = nn.Conv3d(base_filters, out_channels, kernel_size=3, stride=2, padding=1)\n",
    "        \n",
    "    def forward(self, x, params):\n",
    "        \n",
    "        # Encoder\n",
    "        enc1 = self.enc1(x)   # shape: (n, 32, 48, 48, 48)\n",
    "        enc2 = self.enc2(self.pool(enc1))  # shape: (n, 64, 24, 24, 24)\n",
    "        enc3 = self.enc3(self.pool(enc2))  # shape: (n, 128, 12, 12, 12)\n",
    "        enc4 = self.enc4(self.pool(enc3))  # shape: (n, 256, 6, 6, 6)\n",
    "\n",
    "        # Integrating input parameters in bottleneck\n",
    "        n, c, d, h, w = enc4.shape\n",
    "        params = params.view(n, -1, 1, 1, 1).repeat(1, 1, d, h, w)\n",
    "        bottleneck_input = torch.cat([enc4, params], dim=1)  # Concatenate params to feature maps\n",
    "        bottleneck = self.bottleneck(bottleneck_input)  # shape: (n, 512, 6, 6, 6)\n",
    "        \n",
    "        # DecoderThe model was ran for 100 epochs and 7203 data points and the changes were observed with different epochs\n",
    "\n",
    "        dec4 = self.upconv4(bottleneck)  # shape: (n, 256, 12, 12, 12)\n",
    "        dec4 = self.dec4(torch.cat([dec4, enc3], dim=1))\n",
    "        \n",
    "        dec3 = self.upconv3(dec4)  # shape: (n, 128, 24, 24, 24)\n",
    "        dec3 = self.dec3(torch.cat([dec3, enc2], dim=1))\n",
    "        \n",
    "        dec2 = self.upconv2(dec3)  # shape: (n, 64, 48, 48, 48)\n",
    "        dec2 = self.dec2(torch.cat([dec2, enc1], dim=1))\n",
    "        \n",
    "        dec1 = self.upconv1(dec2)  # shape: (n, 32, 48, 48, 48)\n",
    "        dec1 = self.dec1(dec1)\n",
    "        \n",
    "        output = self.final_conv(dec1)  # shape: (n, 1, 48, 48, 48)\n",
    "        return output\n",
    "\n",
    "class CosmoUiT(nn.Module):\n",
    "    def __init__(self, patch_size=6, emb_dim=128, num_heads=4, num_layers=4, param_dim=3):\n",
    "        super(CosmoUiT, self).__init__()\n",
    "        self.patch_embed = PatchEmbedding(patch_size, emb_dim=emb_dim)\n",
    "        self.param_embed = ParameterEmbedding(param_dim, emb_dim)\n",
    "        self.encoder_layers = nn.ModuleList([TransformerEncoderLayer(emb_dim, num_heads) for _ in range(num_layers)])\n",
    "        self.fc_out = nn.Linear(emb_dim, patch_size**3)\n",
    "        self.unet = UNet3D()\n",
    "\n",
    "    def forward(self, x, params):#The model was ran for 100 epochs and 7203 data points and the changes were observed with different epochs\n",
    "\n",
    "        x = self.patch_embed(x)\n",
    "        param_emb = self.param_embed(params)\n",
    "        x = torch.cat((param_emb, x), dim=1)  # Concatenate parameter embedding\n",
    "        for layer in self.encoder_layers:\n",
    "            x = layer(x)\n",
    "        x = self.fc_out(x)  # shape: (n, num_patches, patch_size^3)\n",
    "        x = self.reconstruct(x[:, 1:217, :])\n",
    "        x = self.unet(x, params)\n",
    "        return x\n",
    "    \n",
    "    def reconstruct(self, x):\n",
    "        n, num_patches, patch_dim = x.shape\n",
    "        patch_size = int(round(patch_dim ** (1/3)))\n",
    "        d = h = w = int(round(num_patches ** (1/3)))\n",
    "        x = x.view(n, d, h, w, patch_size, patch_size, patch_size)\n",
    "        x = x.permute(0, 1, 4, 2, 5, 3, 6).contiguous()\n",
    "        x = x.view(n, 1, d*patch_size, h*patch_size, w*patch_size)  # shape: (n, 1, 48, 48, 48)\n",
    "        return x\n",
    "\n",
    "model = CosmoUiT(patch_size=8, emb_dim=128, num_heads=8, num_layers=4, param_dim=3)\n",
    "# input_params = torch.randn(10,3).to(device)\n",
    "# output = model(input_halo, input_params)\n",
    "# print(output.shape)\n",
    "\n",
    "model.load_state_dict(torch.load('/media/disk1/prasad/codes/RefinedModelOutputs/CosmoUiT100/CosmoUiT100.pth', weights_only=True))\n",
    "model.eval()"
   ]
  },
  {
   "cell_type": "code",
   "execution_count": 3,
   "metadata": {},
   "outputs": [
    {
     "data": {
      "text/plain": [
       "<torch.utils.hooks.RemovableHandle at 0x7068d06738f0>"
      ]
     },
     "execution_count": 3,
     "metadata": {},
     "output_type": "execute_result"
    }
   ],
   "source": [
    "model.fc_out.register_forward_hook(hook_fn)"
   ]
  },
  {
   "cell_type": "code",
   "execution_count": 4,
   "metadata": {},
   "outputs": [],
   "source": [
    "input_halo = torch.load('/media/disk2/prasad/TensorData/InputFields/Halo.pt', weights_only=False)[0].unsqueeze(0)\n",
    "input_params = torch.tensor([0, 0, 0], dtype=torch.float32).unsqueeze(0)  # Example parameter shape\n",
    "with torch.no_grad():\n",
    "    model(input_halo, input_params)\n",
    "fc_out_output = outputs[0]\n",
    "def reconstructor(x):\n",
    "        n, num_patches, patch_dim = x.shape\n",
    "        patch_size = int(round(patch_dim ** (1/3)))\n",
    "        d = h = w = int(round(num_patches ** (1/3)))\n",
    "        x = x.view(n, d, h, w, patch_size, patch_size, patch_size)\n",
    "        x = x.permute(0, 1, 4, 2, 5, 3, 6).contiguous()\n",
    "        x = x.view(n, 1, d*patch_size, h*patch_size, w*patch_size)  # shape: (n, 1, 48, 48, 48)\n",
    "        return x\n",
    "\n",
    "true_field2 = reconstructor(fc_out_output[:,1:217,:])"
   ]
  },
  {
   "cell_type": "code",
   "execution_count": 5,
   "metadata": {},
   "outputs": [
    {
     "ename": "NameError",
     "evalue": "name 'YHJTY' is not defined",
     "output_type": "error",
     "traceback": [
      "\u001b[0;31m---------------------------------------------------------------------------\u001b[0m",
      "\u001b[0;31mNameError\u001b[0m                                 Traceback (most recent call last)",
      "Cell \u001b[0;32mIn[5], line 1\u001b[0m\n\u001b[0;32m----> 1\u001b[0m \u001b[43mYHJTY\u001b[49m\n",
      "\u001b[0;31mNameError\u001b[0m: name 'YHJTY' is not defined"
     ]
    }
   ],
   "source": [
    "YHJTY"
   ]
  },
  {
   "cell_type": "code",
   "execution_count": null,
   "metadata": {},
   "outputs": [
    {
     "data": {
      "text/plain": [
       "<matplotlib.image.AxesImage at 0x776fd7b6a6f0>"
      ]
     },
     "execution_count": 6,
     "metadata": {},
     "output_type": "execute_result"
    },
    {
     "data": {
      "image/png": "[encoded data removed]",
      "text/plain": [
       "<Figure size 640x480 with 1 Axes>"
      ]
     },
     "metadata": {},
     "output_type": "display_data"
    }
   ],
   "source": [
    "import matplotlib.pyplot as plt\n",
    "plt.imshow(true_field1[0][0][0])"
   ]
  },
  {
   "cell_type": "code",
   "execution_count": 6,
   "metadata": {},
   "outputs": [
    {
     "data": {
      "text/plain": [
       "<matplotlib.image.AxesImage at 0x70681c63d310>"
      ]
     },
     "execution_count": 6,
     "metadata": {},
     "output_type": "execute_result"
    },
    {
     "data": {
      "image/png": "[encoded data removed]",
      "text/plain": [
       "<Figure size 640x480 with 1 Axes>"
      ]
     },
     "metadata": {},
     "output_type": "display_data"
    },
    {
     "ename": "",
     "evalue": "",
     "output_type": "error",
     "traceback": [
      "\u001b[1;31mThe Kernel crashed while executing code in the current cell or a previous cell. \n",
      "\u001b[1;31mPlease review the code in the cell(s) to identify a possible cause of the failure. \n",
      "\u001b[1;31mClick <a href='https://aka.ms/vscodeJupyterKernelCrash'>here</a> for more info. \n",
      "\u001b[1;31mView Jupyter <a href='command:jupyter.viewOutput'>log</a> for further details."
     ]
    }
   ],
   "source": [
    "import matplotlib.pyplot as plt\n",
    "plt.imshow(true_field2[0][0][0])"
   ]
  },
  {
   "cell_type": "code",
   "execution_count": null,
   "metadata": {},
   "outputs": [
    {
     "data": {
      "image/png": "[encoded data removed]",
      "text/plain": [
       "<Figure size 640x480 with 1 Axes>"
      ]
     },
     "metadata": {},
     "output_type": "display_data"
    }
   ],
   "source": [
    "plt.imshow(input_halo[0][0][0]);"
   ]
  },
  {
   "cell_type": "code",
   "execution_count": null,
   "metadata": {},
   "outputs": [],
   "source": []
  }
 ],
 "metadata": {
  "kernelspec": {
   "display_name": "emulator",
   "language": "python",
   "name": "python3"
  },
  "language_info": {
   "codemirror_mode": {
    "name": "ipython",
    "version": 3
   },
   "file_extension": ".py",
   "mimetype": "text/x-python",
   "name": "python",
   "nbconvert_exporter": "python",
   "pygments_lexer": "ipython3",
   "version": "3.12.5"
  }
 },
 "nbformat": 4,
 "nbformat_minor": 2
}
