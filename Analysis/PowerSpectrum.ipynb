{
 "cells": [
  {
   "cell_type": "code",
   "execution_count": 3,
   "metadata": {},
   "outputs": [],
   "source": [
    "import numpy as np\n",
    "from tqdm import trange"
   ]
  },
  {
   "cell_type": "markdown",
   "metadata": {},
   "source": [
    "```python\n",
    "\n",
    "def save_data(filename,dimension,float_values):\n",
    "    int_values = np.array([int(dimension),int(dimension),int(dimension)])\n",
    "    with open (filename,\"wb\") as f:\n",
    "        int_values.astype(\"int32\").tofile(f)\n",
    "        float_values.astype(\"float32\").tofile(f)            # Keep in mind to remove the abs in float\n",
    "        f.truncate()     \n",
    "        \n",
    "num_file = 7304\n",
    "for i in trange(num_file):\n",
    "    save_data(f'/media/disk2/prasad/ReducedData48bin/xHI{i}bin', 48, np.load(f'/media/disk2/prasad/ReducedData48/xHI{i}.npy'))\n",
    "```"
   ]
  },
  {
   "cell_type": "markdown",
   "metadata": {},
   "source": [
    "```python\n",
    "import os\n",
    "import subprocess\n",
    "\n",
    "class CodeExecutor:\n",
    "    def __init__(self, directory, executable, *params):\n",
    "        \"\"\"\n",
    "        Initialize the CodeExecutor with the directory, executable, and parameters.\n",
    "\n",
    "        Args:\n",
    "        directory (str): The directory where the executable is located.\n",
    "        executable (str): The name of the executable.\n",
    "        params (str): Additional parameters required by the executable.\n",
    "        \"\"\"\n",
    "        self.directory = directory\n",
    "        self.executable = executable\n",
    "        self.params = params\n",
    "\n",
    "    def run(self):\n",
    "        \"\"\"\n",
    "        Run the executable with the given parameters in its directory.\n",
    "        \"\"\"\n",
    "        executable_path = os.path.join(self.directory, self.executable)\n",
    "        subprocess.run([executable_path,*self.params], cwd=self.directory)\n",
    "\n",
    "\n",
    "num_file = 7204\n",
    "for i in trange(num_file):\n",
    "    CodeExecutor('/media/disk1/prasad/PowerSpectrum/Power_Spectrum/',\n",
    "                    'power_main',\n",
    "                    'input_file',\n",
    "                    f'/media/disk2/prasad/ReducedData48bin/xHI{i}bin',\n",
    "                   f'/media/disk2/prasad/PowerSpectrumsRD/xHI{i}.power').run()\n",
    "```    \n"
   ]
  },
  {
   "cell_type": "code",
   "execution_count": 5,
   "metadata": {},
   "outputs": [
    {
     "data": {
      "image/png": "[encoded data removed]",
      "text/plain": [
       "<Figure size 640x480 with 1 Axes>"
      ]
     },
     "metadata": {},
     "output_type": "display_data"
    }
   ],
   "source": [
    "import numpy as np\n",
    "import matplotlib.pyplot as plt\n",
    "i=0\n",
    "ps = np.genfromtxt(f'/media/disk2/prasad/PowerSpectrumsRD/xHI{i}.power')\n",
    "\n",
    "k = ps[:, 0]\n",
    "p = ps[:, 1]\n",
    "n_sample = ps[:,4]\n",
    "\n",
    "import matplotlib.pyplot as plt\n",
    "plt.loglog(k, (k**3)*p);"
   ]
  },
  {
   "cell_type": "code",
   "execution_count": 2,
   "metadata": {},
   "outputs": [
    {
     "data": {
      "text/plain": [
       "array([0.02921868, 0.04503617, 0.06734008, 0.091576  , 0.1228071 ,\n",
       "       0.1724886 , 0.2375515 , 0.3257733 , 0.4481731 , 0.6153912 ])"
      ]
     },
     "execution_count": 2,
     "metadata": {},
     "output_type": "execute_result"
    }
   ],
   "source": [
    "k"
   ]
  },
  {
   "cell_type": "code",
   "execution_count": 4,
   "metadata": {},
   "outputs": [
    {
     "data": {
      "text/plain": [
       "array([0.02921868, 0.04503617, 0.06734008, 0.091576  , 0.1228071 ,\n",
       "       0.1724886 , 0.2375515 , 0.3257733 , 0.4481731 , 0.6153912 ])"
      ]
     },
     "execution_count": 4,
     "metadata": {},
     "output_type": "execute_result"
    }
   ],
   "source": [
    "k"
   ]
  },
  {
   "cell_type": "code",
   "execution_count": 6,
   "metadata": {},
   "outputs": [
    {
     "data": {
      "text/plain": [
       "array([0.02921868, 0.04503617, 0.06734008, 0.091576  , 0.1228071 ,\n",
       "       0.1724886 , 0.2375515 , 0.3257733 , 0.4481731 , 0.6153912 ])"
      ]
     },
     "execution_count": 6,
     "metadata": {},
     "output_type": "execute_result"
    }
   ],
   "source": [
    "k"
   ]
  },
  {
   "cell_type": "code",
   "execution_count": null,
   "metadata": {},
   "outputs": [],
   "source": []
  }
 ],
 "metadata": {
  "kernelspec": {
   "display_name": "emulator",
   "language": "python",
   "name": "python3"
  },
  "language_info": {
   "codemirror_mode": {
    "name": "ipython",
    "version": 3
   },
   "file_extension": ".py",
   "mimetype": "text/x-python",
   "name": "python",
   "nbconvert_exporter": "python",
   "pygments_lexer": "ipython3",
   "version": "3.12.5"
  }
 },
 "nbformat": 4,
 "nbformat_minor": 2
}
